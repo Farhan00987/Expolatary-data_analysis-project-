{
 "cells": [
  {
   "cell_type": "code",
   "execution_count": null,
   "metadata": {},
   "outputs": [],
   "source": [
    "import pandas as pd\n",
    "import numpy as np\n",
    "import matplotlib.pyplot as plt\n",
    "import seaborn as sns\n",
    "from sklearn.preprocessing import LabelEncoder\n",
    "from sklearn.model_selection import train_test_split\n",
    "from sklearn.preprocessing import StandardScaler\n",
    "from sklearn.linear_model import LogisticRegression\n",
    "from sklearn.tree import DecisionTreeClassifier\n",
    "from sklearn.ensemble import RandomForestClassifier\n",
    "from sklearn.ensemble import HistGradientBoostingClassifier\n",
    "from sklearn.metrics import confusion_matrix, classification_report,roc_curve, auc\n"
   ]
  },
  {
   "cell_type": "code",
   "execution_count": 4,
   "metadata": {},
   "outputs": [
    {
     "data": {
      "text/html": [
       "<div>\n",
       "<style scoped>\n",
       "    .dataframe tbody tr th:only-of-type {\n",
       "        vertical-align: middle;\n",
       "    }\n",
       "\n",
       "    .dataframe tbody tr th {\n",
       "        vertical-align: top;\n",
       "    }\n",
       "\n",
       "    .dataframe thead th {\n",
       "        text-align: right;\n",
       "    }\n",
       "</style>\n",
       "<table border=\"1\" class=\"dataframe\">\n",
       "  <thead>\n",
       "    <tr style=\"text-align: right;\">\n",
       "      <th></th>\n",
       "      <th>Titile</th>\n",
       "      <th>Year</th>\n",
       "      <th>Total_episodes</th>\n",
       "      <th>Age</th>\n",
       "      <th>Rating</th>\n",
       "      <th>Vote_count</th>\n",
       "      <th>Category</th>\n",
       "    </tr>\n",
       "  </thead>\n",
       "  <tbody>\n",
       "    <tr>\n",
       "      <th>0</th>\n",
       "      <td>1. Breaking Bad</td>\n",
       "      <td>20082013</td>\n",
       "      <td>62 eps</td>\n",
       "      <td>18</td>\n",
       "      <td>9.5</td>\n",
       "      <td>(2.2M)</td>\n",
       "      <td>TV Series</td>\n",
       "    </tr>\n",
       "    <tr>\n",
       "      <th>1</th>\n",
       "      <td>2. Planet Earth II</td>\n",
       "      <td>2016</td>\n",
       "      <td>6 eps</td>\n",
       "      <td>PG</td>\n",
       "      <td>9.5</td>\n",
       "      <td>(159K)</td>\n",
       "      <td>TV Mini Series</td>\n",
       "    </tr>\n",
       "    <tr>\n",
       "      <th>2</th>\n",
       "      <td>3. Planet Earth</td>\n",
       "      <td>2006</td>\n",
       "      <td>11 eps</td>\n",
       "      <td>PG</td>\n",
       "      <td>9.4</td>\n",
       "      <td>(221K)</td>\n",
       "      <td>TV Mini Series</td>\n",
       "    </tr>\n",
       "    <tr>\n",
       "      <th>3</th>\n",
       "      <td>4. Band of Brothers</td>\n",
       "      <td>2001</td>\n",
       "      <td>10 eps</td>\n",
       "      <td>15</td>\n",
       "      <td>9.4</td>\n",
       "      <td>(533K)</td>\n",
       "      <td>TV Mini Series</td>\n",
       "    </tr>\n",
       "    <tr>\n",
       "      <th>4</th>\n",
       "      <td>5. Chernobyl</td>\n",
       "      <td>2019</td>\n",
       "      <td>5 eps</td>\n",
       "      <td>15</td>\n",
       "      <td>9.3</td>\n",
       "      <td>(876K)</td>\n",
       "      <td>TV Mini Series</td>\n",
       "    </tr>\n",
       "  </tbody>\n",
       "</table>\n",
       "</div>"
      ],
      "text/plain": [
       "                Titile       Year Total_episodes Age  Rating Vote_count  \\\n",
       "0      1. Breaking Bad  20082013         62 eps  18     9.5     (2.2M)   \n",
       "1   2. Planet Earth II       2016          6 eps  PG     9.5     (159K)   \n",
       "2      3. Planet Earth       2006         11 eps  PG     9.4     (221K)   \n",
       "3  4. Band of Brothers       2001         10 eps  15     9.4     (533K)   \n",
       "4         5. Chernobyl       2019          5 eps  15     9.3     (876K)   \n",
       "\n",
       "         Category  \n",
       "0       TV Series  \n",
       "1  TV Mini Series  \n",
       "2  TV Mini Series  \n",
       "3  TV Mini Series  \n",
       "4  TV Mini Series  "
      ]
     },
     "execution_count": 4,
     "metadata": {},
     "output_type": "execute_result"
    }
   ],
   "source": [
    "file_path = r'C:\\Users\\mrall\\Desktop\\data anlayst\\IMDB_Top250_Tvshows.csv'\n",
    "df = pd.read_csv(file_path, encoding='ISO-8859-1')\n",
    "df.head()"
   ]
  },
  {
   "cell_type": "code",
   "execution_count": 5,
   "metadata": {},
   "outputs": [
    {
     "name": "stdout",
     "output_type": "stream",
     "text": [
      "<class 'pandas.core.frame.DataFrame'>\n",
      "RangeIndex: 250 entries, 0 to 249\n",
      "Data columns (total 7 columns):\n",
      " #   Column          Non-Null Count  Dtype  \n",
      "---  ------          --------------  -----  \n",
      " 0   Titile          250 non-null    object \n",
      " 1   Year            250 non-null    object \n",
      " 2   Total_episodes  250 non-null    object \n",
      " 3   Age             244 non-null    object \n",
      " 4   Rating          250 non-null    float64\n",
      " 5   Vote_count      250 non-null    object \n",
      " 6   Category        250 non-null    object \n",
      "dtypes: float64(1), object(6)\n",
      "memory usage: 13.8+ KB\n"
     ]
    }
   ],
   "source": [
    "#Information about dataset \n",
    "\n",
    "df.info()"
   ]
  },
  {
   "cell_type": "code",
   "execution_count": 7,
   "metadata": {},
   "outputs": [
    {
     "data": {
      "text/plain": [
       "Titile            0\n",
       "Year              0\n",
       "Total_episodes    0\n",
       "Age               6\n",
       "Rating            0\n",
       "Vote_count        0\n",
       "Category          0\n",
       "dtype: int64"
      ]
     },
     "execution_count": 7,
     "metadata": {},
     "output_type": "execute_result"
    }
   ],
   "source": [
    "# Searching for null values in data set \n",
    " \n",
    "df.isnull().sum()"
   ]
  },
  {
   "cell_type": "code",
   "execution_count": 9,
   "metadata": {},
   "outputs": [
    {
     "data": {
      "text/plain": [
       "Titile            0\n",
       "Year              0\n",
       "Total_episodes    0\n",
       "Age               0\n",
       "Rating            0\n",
       "Vote_count        0\n",
       "Category          0\n",
       "dtype: int64"
      ]
     },
     "execution_count": 9,
     "metadata": {},
     "output_type": "execute_result"
    }
   ],
   "source": [
    "#filling removing and filling null values from Age colum \n",
    "\n",
    "# Drop rows where the 'age' column has null values\n",
    "df = df.dropna(subset=['Age'])\n",
    "df.isnull().sum()"
   ]
  }
 ],
 "metadata": {
  "kernelspec": {
   "display_name": "Python 3",
   "language": "python",
   "name": "python3"
  },
  "language_info": {
   "codemirror_mode": {
    "name": "ipython",
    "version": 3
   },
   "file_extension": ".py",
   "mimetype": "text/x-python",
   "name": "python",
   "nbconvert_exporter": "python",
   "pygments_lexer": "ipython3",
   "version": "3.12.4"
  }
 },
 "nbformat": 4,
 "nbformat_minor": 2
}
